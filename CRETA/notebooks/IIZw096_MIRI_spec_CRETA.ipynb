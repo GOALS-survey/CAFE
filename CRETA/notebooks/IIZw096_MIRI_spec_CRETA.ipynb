{
 "cells": [
  {
   "cell_type": "code",
   "execution_count": 1,
   "id": "748ddf1b-3ed8-4072-a2b0-3a7a27c0da82",
   "metadata": {},
   "outputs": [],
   "source": [
    "# This is a notebook to perform spectral extraction at specific locations/regions from JWST MIRI/MRS cubes."
   ]
  },
  {
   "cell_type": "code",
   "execution_count": null,
   "id": "1bebd591",
   "metadata": {},
   "outputs": [],
   "source": [
    "import os\n",
    "os._exit(00)"
   ]
  },
  {
   "cell_type": "code",
   "execution_count": 2,
   "id": "73124102-f4ec-41d2-862d-4792a7925443",
   "metadata": {},
   "outputs": [],
   "source": [
    "import sys\n",
    "# Include the path to the folder where CRETA has been installed. Usually it's one level up from the notebook/ folder.\n",
    "sys.path.insert(0, '../')\n",
    "import creta"
   ]
  },
  {
   "cell_type": "code",
   "execution_count": 3,
   "id": "1a2a552d-f875-4ec4-a8c4-662ef6fa02ec",
   "metadata": {},
   "outputs": [],
   "source": [
    "# SPECTRAL EXTRACTION"
   ]
  },
  {
   "cell_type": "code",
   "execution_count": 4,
   "id": "38c32199-f4f4-4ca7-9325-e1515600ea37",
   "metadata": {},
   "outputs": [
    {
     "name": "stdout",
     "output_type": "stream",
     "text": [
      "cubes = ch1-short, ch1-medium, ch1-long, ch2-short, ch2-medium, ch2-long, ch3-short, ch3-medium, ch3-long, ch4-short, ch4-medium, ch4-long\n",
      "user_r_ap = 0.3                 # [arcsec] Aperture size\n",
      "user_ra = 20h57m24.368s         # RA of the extraction location\n",
      "user_dec = 17d07m39.21s         # Dec of the extraction location\n",
      "point_source = False            # [True/False] True = Cone extraction. False = Cylinder extraction\n",
      "lambda_ap = 5.4                 # [microns] The user-specified aperture size (user_r_ap) will be defined at this wavelength (ignored if point_source=False; cylinder extraction)\n",
      "aperture_correction = False     # [True/False]\n",
      "centering = True                # [True/False] At lambda_cent, this will update user_ra,user_dec to recenter the extraction location  \n",
      "lambda_cent = 5.4               # [microns] The wavelength at which to perform the centering (ignored if centering=False)\n",
      "background_sub = False          # [True/False]\n",
      "r_ann_in = 0.0                  # [arcsec] When background_sub=True, this defines the inner annulus size. This size will NOT scale with aperture size even when point_source=True\n",
      "ann_width = 0.0                 # [arcsec] When background_sub=True, this defines the annulus width. This size will NOT scale with aperture size even when point_source=True\n"
     ]
    }
   ],
   "source": [
    "# Read parameter file with extraction keywords\n",
    "creta_dir = '../'\n",
    "pf = open(creta_dir+'param_files/IIZw096_single_params.txt','r')\n",
    "print(pf.read())\n",
    "pf.close()"
   ]
  },
  {
   "cell_type": "code",
   "execution_count": 5,
   "id": "0b3c3e62-84e2-476b-923c-b6ff3a0f1847",
   "metadata": {},
   "outputs": [
    {
     "name": "stdout",
     "output_type": "stream",
     "text": [
      "CAFE Region Extraction Tool Automaton (CRETA) initialized\n"
     ]
    }
   ],
   "source": [
    "# Load the extraction tool (CRETA)\n",
    "c = creta.creta(creta_dir)"
   ]
  },
  {
   "cell_type": "code",
   "execution_count": 6,
   "id": "43654c5b-f7a0-43a4-8bd9-39952c446342",
   "metadata": {},
   "outputs": [
    {
     "name": "stdout",
     "output_type": "stream",
     "text": [
      "User API Created\n",
      "PSFs: ../PSFs/\n",
      "Data: ../data/IIZw096/\n",
      "########################################\n",
      "     Load User Parameters \n",
      "########################################\n",
      "Cubes: ['ch1-short', 'ch1-medium', 'ch1-long', 'ch2-short', 'ch2-medium', 'ch2-long', 'ch3-short', 'ch3-medium', 'ch3-long', 'ch4-short', 'ch4-medium', 'ch4-long']\n",
      "Aperture radii: [0.3] (arcsec)\n",
      "RA,δ: [314.35153333,17.12755833] (degrees)\n",
      "Point Source: False\n",
      "Aperture Correction: False (PSF Correction)\n",
      "Centering: True\n",
      "Centering lambda: 5.4μm\n",
      "Background Subtraction: False\n",
      "PSF sub-cubes Path: ../PSFs/\n",
      "Data sub-cubes Path: ../data/IIZw096/\n",
      "########################################\n",
      "Loading Data\n",
      "Load file: ../data/IIZw096/Level3_bandcube_ch1-short_s3d.fits\n",
      "Load file: ../data/IIZw096/Level3_bandcube_ch1-medium_s3d.fits\n",
      "Load file: ../data/IIZw096/Level3_bandcube_ch1-long_s3d.fits\n",
      "Load file: ../data/IIZw096/Level3_bandcube_ch2-short_s3d.fits\n",
      "Load file: ../data/IIZw096/Level3_bandcube_ch2-medium_s3d.fits\n",
      "Load file: ../data/IIZw096/Level3_bandcube_ch2-long_s3d.fits\n",
      "Load file: ../data/IIZw096/Level3_bandcube_ch3-short_s3d.fits\n",
      "Load file: ../data/IIZw096/Level3_bandcube_ch3-medium_s3d.fits\n",
      "Load file: ../data/IIZw096/Level3_bandcube_ch3-long_s3d.fits\n",
      "Load file: ../data/IIZw096/Level3_bandcube_ch4-short_s3d.fits\n",
      "Load file: ../data/IIZw096/Level3_bandcube_ch4-medium_s3d.fits\n",
      "Load file: ../data/IIZw096/Level3_bandcube_ch4-long_s3d.fits\n"
     ]
    },
    {
     "name": "stderr",
     "output_type": "stream",
     "text": [
      "WARNING: No observer defined on WCS, SpectralCoord will be converted without any velocity frame change [astropy.wcs.wcsapi.fitswcs]\n"
     ]
    },
    {
     "name": "stdout",
     "output_type": "stream",
     "text": [
      "Centering around 5.399600082746474 um in cube ch1_SHORT\n",
      "Old coordinates were: 314.35153333 17.12755833\n",
      "New coordinates are: <SkyCoord (ICRS): (ra, dec) in deg\n",
      "    (314.35153333, 17.12755833)>\n",
      "ch1_SHORT photometry exectued in: 0.9088530540466309 seconds\n",
      "ch1_MEDIUM photometry exectued in: 1.0759618282318115 seconds\n",
      "ch1_LONG photometry exectued in: 1.3312058448791504 seconds\n",
      "ch2_SHORT photometry exectued in: 0.8751587867736816 seconds\n",
      "ch2_MEDIUM photometry exectued in: 0.9982779026031494 seconds\n",
      "ch2_LONG photometry exectued in: 1.204482078552246 seconds\n",
      "ch3_SHORT photometry exectued in: 0.8433690071105957 seconds\n",
      "ch3_MEDIUM photometry exectued in: 0.7861769199371338 seconds\n",
      "ch3_LONG photometry exectued in: 0.9187338352203369 seconds\n",
      "ch4_SHORT photometry exectued in: 0.5041759014129639 seconds\n",
      "ch4_MEDIUM photometry exectued in: 0.5758209228515625 seconds\n",
      "ch4_LONG photometry exectued in: 0.5598080158233643 seconds\n",
      "Photometry exectued in': 10.618873834609985 seconds\n",
      "Initiating stitching process\n",
      "Stitch ratios: [[0.9763015026589322, 1.0119086030642697, 0.9244633762193476, 0.9679603051700624, 1.0504209066788517, 0.8932539238556843, 0.9989926575893733, 0.9714468703321787, 0.8457243962357287, 0.944359623327602, 0.9907346946538184, 1.0]]\n",
      "For radius 0.3                  arcsec:\n",
      "Stitching performed in: 1.203434944152832 seconds\n",
      "Output written in: 2.1034789085388184 seconds\n",
      "1 file output(s) named: IIZw096_SingleExt_r0.3as\n",
      "{'extraction_RA': <Longitude 314.35153333 deg>, 'extraction_DEC': <Latitude 17.12755833 deg>, 'r_ap': '0.3                 ', 'exrtaction_type': 'extended source', 'ap_corr': False, 'Centering': True, 'Centering_lambda': 5.399600082746474, 'bkg_sub': False, 'bkg_r_in': None, 'bkg_an_w': None}\n",
      "Total execution time of single region extraction: 48.84366583824158 seconds\n"
     ]
    }
   ],
   "source": [
    "# Perform the extraction\n",
    "c.singleExtraction(parameter_file=True, parfile_name='IIZw096_single_params.txt', data_path='../data/IIZw096/', output_filebase_name='IIZw096')"
   ]
  },
  {
   "cell_type": "code",
   "execution_count": 6,
   "id": "e6b6d2e6-c2c4-404c-bda8-1ee1d73399dc",
   "metadata": {},
   "outputs": [],
   "source": [
    "# The spectrum/spectra are extracted. Proceed to CAFE notebook."
   ]
  }
 ],
 "metadata": {
  "kernelspec": {
   "display_name": "Python 3 (ipykernel)",
   "language": "python",
   "name": "python3"
  },
  "language_info": {
   "codemirror_mode": {
    "name": "ipython",
    "version": 3
   },
   "file_extension": ".py",
   "mimetype": "text/x-python",
   "name": "python",
   "nbconvert_exporter": "python",
   "pygments_lexer": "ipython3",
   "version": "3.8.10"
  }
 },
 "nbformat": 4,
 "nbformat_minor": 5
}
